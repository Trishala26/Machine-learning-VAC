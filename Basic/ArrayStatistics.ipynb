{
  "cells": [
    {
      "cell_type": "code",
      "execution_count": 1,
      "id": "9ad87908-7256-4513-ba69-c27fc37f3629",
      "metadata": {
        "tags": [],
        "id": "9ad87908-7256-4513-ba69-c27fc37f3629"
      },
      "outputs": [],
      "source": [
        "import numpy as np\n"
      ]
    },
    {
      "cell_type": "code",
      "execution_count": 2,
      "id": "541e9ce9-fe8a-4097-9de7-b445c05f2f0c",
      "metadata": {
        "tags": [],
        "id": "541e9ce9-fe8a-4097-9de7-b445c05f2f0c"
      },
      "outputs": [],
      "source": [
        "arr=np.random.randn(4,4)"
      ]
    },
    {
      "cell_type": "code",
      "execution_count": 3,
      "id": "4e46309b-5c15-456b-b580-4205b63959da",
      "metadata": {
        "tags": [],
        "id": "4e46309b-5c15-456b-b580-4205b63959da",
        "outputId": "63e38191-ed74-49e6-98b8-9db3349996ec",
        "colab": {
          "base_uri": "https://localhost:8080/"
        }
      },
      "outputs": [
        {
          "output_type": "execute_result",
          "data": {
            "text/plain": [
              "array([[-0.48186505,  0.25220935, -0.22270894, -0.73734441],\n",
              "       [-1.0998941 , -0.84088334,  0.41576658, -0.17907496],\n",
              "       [-0.66146183,  1.11979908,  0.40478363, -0.96466218],\n",
              "       [-1.57632884, -0.81174992, -0.14156912, -0.77357709]])"
            ]
          },
          "metadata": {},
          "execution_count": 3
        }
      ],
      "source": [
        "arr"
      ]
    },
    {
      "cell_type": "code",
      "execution_count": 4,
      "id": "b9867e82-9bb8-4ee4-832d-9f27a231e7d3",
      "metadata": {
        "tags": [],
        "id": "b9867e82-9bb8-4ee4-832d-9f27a231e7d3",
        "outputId": "3624540f-2bcc-4c87-b5fe-8ba79eb120b2",
        "colab": {
          "base_uri": "https://localhost:8080/"
        }
      },
      "outputs": [
        {
          "output_type": "execute_result",
          "data": {
            "text/plain": [
              "-6.298561130476822"
            ]
          },
          "metadata": {},
          "execution_count": 4
        }
      ],
      "source": [
        "arr.sum()"
      ]
    },
    {
      "cell_type": "code",
      "execution_count": 5,
      "id": "9be91569-87a8-4584-a6a2-d62c886721cb",
      "metadata": {
        "tags": [],
        "id": "9be91569-87a8-4584-a6a2-d62c886721cb",
        "outputId": "6dfe1b45-1188-46a0-e2db-4c378b66ce14",
        "colab": {
          "base_uri": "https://localhost:8080/"
        }
      },
      "outputs": [
        {
          "output_type": "execute_result",
          "data": {
            "text/plain": [
              "-0.39366007065480135"
            ]
          },
          "metadata": {},
          "execution_count": 5
        }
      ],
      "source": [
        "arr.mean()"
      ]
    },
    {
      "cell_type": "code",
      "execution_count": 6,
      "id": "7c355c71-5123-4977-9f41-fe60943545d8",
      "metadata": {
        "tags": [],
        "id": "7c355c71-5123-4977-9f41-fe60943545d8",
        "outputId": "9e919b34-6c31-4a25-cda4-83959820c9e3",
        "colab": {
          "base_uri": "https://localhost:8080/"
        }
      },
      "outputs": [
        {
          "output_type": "execute_result",
          "data": {
            "text/plain": [
              "0.44246797266583715"
            ]
          },
          "metadata": {},
          "execution_count": 6
        }
      ],
      "source": [
        "arr.var()"
      ]
    },
    {
      "cell_type": "code",
      "execution_count": 7,
      "id": "9a803b8c-c625-40e2-a854-3b2be72a6dcc",
      "metadata": {
        "tags": [],
        "id": "9a803b8c-c625-40e2-a854-3b2be72a6dcc",
        "outputId": "d86eb062-9d9a-49bc-a877-fcd2970431f1",
        "colab": {
          "base_uri": "https://localhost:8080/"
        }
      },
      "outputs": [
        {
          "output_type": "execute_result",
          "data": {
            "text/plain": [
              "0.665182661128383"
            ]
          },
          "metadata": {},
          "execution_count": 7
        }
      ],
      "source": [
        "arr.std()"
      ]
    },
    {
      "cell_type": "code",
      "execution_count": 8,
      "id": "36595223-fe64-48d6-b032-213cfe53d48a",
      "metadata": {
        "tags": [],
        "id": "36595223-fe64-48d6-b032-213cfe53d48a",
        "outputId": "1177b209-c386-40f4-ca92-c4a9a3885950",
        "colab": {
          "base_uri": "https://localhost:8080/"
        }
      },
      "outputs": [
        {
          "output_type": "execute_result",
          "data": {
            "text/plain": [
              "(array([0, 0, 0, 1, 1, 1, 2, 2, 3, 3, 3, 3]),\n",
              " array([0, 2, 3, 0, 1, 3, 0, 3, 0, 1, 2, 3]))"
            ]
          },
          "metadata": {},
          "execution_count": 8
        }
      ],
      "source": [
        "np.where(arr<0)\n"
      ]
    },
    {
      "cell_type": "code",
      "execution_count": 9,
      "id": "9b38771d-d1b4-42c8-9615-7285e6d06673",
      "metadata": {
        "tags": [],
        "id": "9b38771d-d1b4-42c8-9615-7285e6d06673",
        "outputId": "b5f64a56-f423-42cd-965d-3d3efd0a6dd8",
        "colab": {
          "base_uri": "https://localhost:8080/"
        }
      },
      "outputs": [
        {
          "output_type": "execute_result",
          "data": {
            "text/plain": [
              "array([[0.        , 0.25220935, 0.        , 0.        ],\n",
              "       [0.        , 0.        , 0.41576658, 0.        ],\n",
              "       [0.        , 1.11979908, 0.40478363, 0.        ],\n",
              "       [0.        , 0.        , 0.        , 0.        ]])"
            ]
          },
          "metadata": {},
          "execution_count": 9
        }
      ],
      "source": [
        "np.where(arr<0,0,arr)"
      ]
    },
    {
      "cell_type": "code",
      "execution_count": 10,
      "id": "bda3beac-4878-43fd-b625-674779000326",
      "metadata": {
        "tags": [],
        "id": "bda3beac-4878-43fd-b625-674779000326"
      },
      "outputs": [],
      "source": [
        "arr.sort()"
      ]
    },
    {
      "cell_type": "code",
      "execution_count": 11,
      "id": "67700521-8b5e-49ec-86a5-6955f5dbfb25",
      "metadata": {
        "tags": [],
        "id": "67700521-8b5e-49ec-86a5-6955f5dbfb25",
        "outputId": "5632870a-0abc-4b8f-c353-1b3633208fdb",
        "colab": {
          "base_uri": "https://localhost:8080/"
        }
      },
      "outputs": [
        {
          "output_type": "execute_result",
          "data": {
            "text/plain": [
              "array([[-0.73734441, -0.48186505, -0.22270894,  0.25220935],\n",
              "       [-1.0998941 , -0.84088334, -0.17907496,  0.41576658],\n",
              "       [-0.96466218, -0.66146183,  0.40478363,  1.11979908],\n",
              "       [-1.57632884, -0.81174992, -0.77357709, -0.14156912]])"
            ]
          },
          "metadata": {},
          "execution_count": 11
        }
      ],
      "source": [
        "arr"
      ]
    },
    {
      "cell_type": "code",
      "execution_count": 11,
      "id": "b4f46e8f-a857-4e28-ba51-b11e15a7e0c1",
      "metadata": {
        "id": "b4f46e8f-a857-4e28-ba51-b11e15a7e0c1"
      },
      "outputs": [],
      "source": []
    }
  ],
  "metadata": {
    "kernelspec": {
      "display_name": "Python 3 (ipykernel)",
      "language": "python",
      "name": "python3"
    },
    "language_info": {
      "codemirror_mode": {
        "name": "ipython",
        "version": 3
      },
      "file_extension": ".py",
      "mimetype": "text/x-python",
      "name": "python",
      "nbconvert_exporter": "python",
      "pygments_lexer": "ipython3",
      "version": "3.11.5"
    },
    "colab": {
      "provenance": []
    }
  },
  "nbformat": 4,
  "nbformat_minor": 5
}