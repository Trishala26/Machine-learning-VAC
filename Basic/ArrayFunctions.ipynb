{
  "cells": [
    {
      "cell_type": "code",
      "execution_count": 1,
      "id": "c207d551-ecf7-48ca-9be0-9d157c09bf03",
      "metadata": {
        "tags": [],
        "id": "c207d551-ecf7-48ca-9be0-9d157c09bf03"
      },
      "outputs": [],
      "source": [
        "import numpy as np"
      ]
    },
    {
      "cell_type": "code",
      "execution_count": 2,
      "id": "c928c111-fb1c-4203-87ca-4fea357866d2",
      "metadata": {
        "tags": [],
        "colab": {
          "base_uri": "https://localhost:8080/"
        },
        "id": "c928c111-fb1c-4203-87ca-4fea357866d2",
        "outputId": "aa6879e6-4c50-4133-d24e-538df696c8eb"
      },
      "outputs": [
        {
          "output_type": "execute_result",
          "data": {
            "text/plain": [
              "10"
            ]
          },
          "metadata": {},
          "execution_count": 2
        }
      ],
      "source": [
        "np.random.randint(12)"
      ]
    },
    {
      "cell_type": "code",
      "execution_count": 3,
      "id": "1a6cdb19-0938-4df2-b80e-b23e7092955f",
      "metadata": {
        "tags": [],
        "id": "1a6cdb19-0938-4df2-b80e-b23e7092955f"
      },
      "outputs": [],
      "source": [
        "arr1=np.random.randn(12)"
      ]
    },
    {
      "cell_type": "code",
      "execution_count": 4,
      "id": "723aeffb-a735-4778-8a00-973cedc9c42d",
      "metadata": {
        "tags": [],
        "colab": {
          "base_uri": "https://localhost:8080/"
        },
        "id": "723aeffb-a735-4778-8a00-973cedc9c42d",
        "outputId": "62a08086-4e82-438d-ffec-5bf36fed7dbf"
      },
      "outputs": [
        {
          "output_type": "execute_result",
          "data": {
            "text/plain": [
              "array([-1.61327892,  0.27970519, -0.73111272, -0.47851906, -0.46547286,\n",
              "        1.62376494,  2.13061279,  0.06733175, -0.97477604, -2.21305013,\n",
              "        0.08042497, -0.68771451])"
            ]
          },
          "metadata": {},
          "execution_count": 4
        }
      ],
      "source": [
        "arr1"
      ]
    },
    {
      "cell_type": "code",
      "execution_count": 5,
      "id": "de08cdad-6cfa-41b6-acfc-1c47f2ccdfe0",
      "metadata": {
        "tags": [],
        "colab": {
          "base_uri": "https://localhost:8080/"
        },
        "id": "de08cdad-6cfa-41b6-acfc-1c47f2ccdfe0",
        "outputId": "6a37402e-64ea-48a4-9762-04aa78acb743"
      },
      "outputs": [
        {
          "output_type": "stream",
          "name": "stderr",
          "text": [
            "<ipython-input-5-31bdbbe4b4c3>:1: RuntimeWarning: invalid value encountered in sqrt\n",
            "  np.sqrt(arr1)\n"
          ]
        },
        {
          "output_type": "execute_result",
          "data": {
            "text/plain": [
              "array([       nan, 0.52887162,        nan,        nan,        nan,\n",
              "       1.27427036, 1.45966188, 0.25948363,        nan,        nan,\n",
              "       0.28359297,        nan])"
            ]
          },
          "metadata": {},
          "execution_count": 5
        }
      ],
      "source": [
        "np.sqrt(arr1)"
      ]
    },
    {
      "cell_type": "code",
      "execution_count": 6,
      "id": "919eca77-01ef-4a69-a013-43708f627ac3",
      "metadata": {
        "tags": [],
        "colab": {
          "base_uri": "https://localhost:8080/"
        },
        "id": "919eca77-01ef-4a69-a013-43708f627ac3",
        "outputId": "9c8a8858-4833-44a3-df4e-a6d55914e5a7"
      },
      "outputs": [
        {
          "output_type": "execute_result",
          "data": {
            "text/plain": [
              "array([0.19923327, 1.3227398 , 0.48137306, 0.61970045, 0.62783815,\n",
              "       5.07215075, 8.42002496, 1.06965028, 0.37727684, 0.10936656,\n",
              "       1.08374753, 0.50272373])"
            ]
          },
          "metadata": {},
          "execution_count": 6
        }
      ],
      "source": [
        "np.exp(arr1)"
      ]
    },
    {
      "cell_type": "code",
      "execution_count": 7,
      "id": "bcd11c47-9d33-4a0e-ba7e-6cb3c447e1c8",
      "metadata": {
        "tags": [],
        "id": "bcd11c47-9d33-4a0e-ba7e-6cb3c447e1c8"
      },
      "outputs": [],
      "source": [
        "arr2=np.random.randn(12)"
      ]
    },
    {
      "cell_type": "code",
      "execution_count": 8,
      "id": "7a58ae78-10a1-4868-becd-bf88b3664157",
      "metadata": {
        "tags": [],
        "colab": {
          "base_uri": "https://localhost:8080/"
        },
        "id": "7a58ae78-10a1-4868-becd-bf88b3664157",
        "outputId": "360e5804-3ca7-4edc-d142-b94e4e6092b2"
      },
      "outputs": [
        {
          "output_type": "execute_result",
          "data": {
            "text/plain": [
              "array([ 0.21917492, -1.64275732, -0.37259136,  1.02032592,  1.66972677,\n",
              "        0.31550764,  1.34403866,  0.89613279,  0.38101343,  2.01942356,\n",
              "        0.06004596, -2.17894058])"
            ]
          },
          "metadata": {},
          "execution_count": 8
        }
      ],
      "source": [
        "arr2"
      ]
    },
    {
      "cell_type": "code",
      "execution_count": 9,
      "id": "96a4220f-85a4-4129-80d3-dd28ac700d4c",
      "metadata": {
        "tags": [],
        "colab": {
          "base_uri": "https://localhost:8080/"
        },
        "id": "96a4220f-85a4-4129-80d3-dd28ac700d4c",
        "outputId": "43645900-0217-4dd2-a10b-568bb5b2c814"
      },
      "outputs": [
        {
          "output_type": "execute_result",
          "data": {
            "text/plain": [
              "array([-1.39410401, -1.36305213, -1.10370408,  0.54180686,  1.20425391,\n",
              "        1.93927258,  3.47465145,  0.96346454, -0.59376261, -0.19362657,\n",
              "        0.14047093, -2.86665509])"
            ]
          },
          "metadata": {},
          "execution_count": 9
        }
      ],
      "source": [
        "np.add(arr1,arr2)"
      ]
    },
    {
      "cell_type": "code",
      "execution_count": 10,
      "id": "2fb14496-6ef1-4f75-8bca-49a2ff1a39dc",
      "metadata": {
        "tags": [],
        "colab": {
          "base_uri": "https://localhost:8080/"
        },
        "id": "2fb14496-6ef1-4f75-8bca-49a2ff1a39dc",
        "outputId": "eb72e665-e7b3-405c-d2fe-ef3e192d95ee"
      },
      "outputs": [
        {
          "output_type": "execute_result",
          "data": {
            "text/plain": [
              "array([-1.61327892, -1.64275732, -0.73111272, -0.47851906, -0.46547286,\n",
              "        0.31550764,  1.34403866,  0.06733175, -0.97477604, -2.21305013,\n",
              "        0.06004596, -2.17894058])"
            ]
          },
          "metadata": {},
          "execution_count": 10
        }
      ],
      "source": [
        "np.minimum(arr1,arr2)"
      ]
    },
    {
      "cell_type": "code",
      "execution_count": 11,
      "id": "5af99c19-c079-400c-9d36-f791e6f5db37",
      "metadata": {
        "tags": [],
        "colab": {
          "base_uri": "https://localhost:8080/"
        },
        "id": "5af99c19-c079-400c-9d36-f791e6f5db37",
        "outputId": "96ddfc32-d5b1-4ce8-c75c-cebee1ff4037"
      },
      "outputs": [
        {
          "output_type": "execute_result",
          "data": {
            "text/plain": [
              "array([ 0.21917492,  0.27970519, -0.37259136,  1.02032592,  1.66972677,\n",
              "        1.62376494,  2.13061279,  0.89613279,  0.38101343,  2.01942356,\n",
              "        0.08042497, -0.68771451])"
            ]
          },
          "metadata": {},
          "execution_count": 11
        }
      ],
      "source": [
        "np.maximum(arr1,arr2)"
      ]
    }
  ],
  "metadata": {
    "kernelspec": {
      "display_name": "Python 3 (ipykernel)",
      "language": "python",
      "name": "python3"
    },
    "language_info": {
      "codemirror_mode": {
        "name": "ipython",
        "version": 3
      },
      "file_extension": ".py",
      "mimetype": "text/x-python",
      "name": "python",
      "nbconvert_exporter": "python",
      "pygments_lexer": "ipython3",
      "version": "3.11.5"
    },
    "colab": {
      "provenance": []
    }
  },
  "nbformat": 4,
  "nbformat_minor": 5
}