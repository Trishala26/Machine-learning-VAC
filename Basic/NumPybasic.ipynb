{
  "cells": [
    {
      "cell_type": "code",
      "execution_count": 1,
      "id": "7ecd55b8-bfb2-4963-8e3d-7c584cfc5530",
      "metadata": {
        "tags": [],
        "id": "7ecd55b8-bfb2-4963-8e3d-7c584cfc5530"
      },
      "outputs": [],
      "source": [
        "import numpy as np"
      ]
    },
    {
      "cell_type": "code",
      "execution_count": 2,
      "id": "a804a42a-4e34-4723-97b1-ab6e9100ad1c",
      "metadata": {
        "tags": [],
        "id": "a804a42a-4e34-4723-97b1-ab6e9100ad1c",
        "outputId": "6bc8150a-95fc-4055-a3e9-df8c769b3351",
        "colab": {
          "base_uri": "https://localhost:8080/"
        }
      },
      "outputs": [
        {
          "output_type": "execute_result",
          "data": {
            "text/plain": [
              "array([ 0,  1,  2,  3,  4,  5,  6,  7,  8,  9, 10, 11, 12, 13, 14])"
            ]
          },
          "metadata": {},
          "execution_count": 2
        }
      ],
      "source": [
        "np.arange(15)"
      ]
    },
    {
      "cell_type": "code",
      "execution_count": 3,
      "id": "19869ac9-1e88-462f-8376-a412add228b1",
      "metadata": {
        "tags": [],
        "id": "19869ac9-1e88-462f-8376-a412add228b1"
      },
      "outputs": [],
      "source": [
        "# reshape\n",
        "a=np.arange(15)"
      ]
    },
    {
      "cell_type": "code",
      "execution_count": 4,
      "id": "5a4ba991-e7e5-4f97-bb57-bd340a8d02f3",
      "metadata": {
        "tags": [],
        "id": "5a4ba991-e7e5-4f97-bb57-bd340a8d02f3",
        "outputId": "4d57e98e-2052-4e4a-b4cc-96d227a28b50",
        "colab": {
          "base_uri": "https://localhost:8080/"
        }
      },
      "outputs": [
        {
          "output_type": "execute_result",
          "data": {
            "text/plain": [
              "array([[ 0,  1,  2,  3,  4],\n",
              "       [ 5,  6,  7,  8,  9],\n",
              "       [10, 11, 12, 13, 14]])"
            ]
          },
          "metadata": {},
          "execution_count": 4
        }
      ],
      "source": [
        "# reshape\n",
        "a.reshape(3,5)"
      ]
    },
    {
      "cell_type": "code",
      "execution_count": 5,
      "id": "25efb6ee-9429-43a7-a81e-c95e36e31e13",
      "metadata": {
        "tags": [],
        "id": "25efb6ee-9429-43a7-a81e-c95e36e31e13"
      },
      "outputs": [],
      "source": [
        "a=a.reshape(3,5)"
      ]
    },
    {
      "cell_type": "code",
      "execution_count": 6,
      "id": "1f2cea76-b12e-4275-8c72-bfdcafe5dc39",
      "metadata": {
        "tags": [],
        "id": "1f2cea76-b12e-4275-8c72-bfdcafe5dc39",
        "outputId": "41b3613f-8dc6-4d19-eb6c-a57f5a153838",
        "colab": {
          "base_uri": "https://localhost:8080/"
        }
      },
      "outputs": [
        {
          "output_type": "execute_result",
          "data": {
            "text/plain": [
              "(3, 5)"
            ]
          },
          "metadata": {},
          "execution_count": 6
        }
      ],
      "source": [
        "a.shape"
      ]
    },
    {
      "cell_type": "code",
      "execution_count": 7,
      "id": "37925147-5e49-4b48-97d8-3a1b9050889f",
      "metadata": {
        "tags": [],
        "id": "37925147-5e49-4b48-97d8-3a1b9050889f",
        "outputId": "8fcedcfb-4166-40cd-a362-cd01f19b79f9",
        "colab": {
          "base_uri": "https://localhost:8080/",
          "height": 36
        }
      },
      "outputs": [
        {
          "output_type": "execute_result",
          "data": {
            "text/plain": [
              "'int64'"
            ],
            "application/vnd.google.colaboratory.intrinsic+json": {
              "type": "string"
            }
          },
          "metadata": {},
          "execution_count": 7
        }
      ],
      "source": [
        "a.dtype.name"
      ]
    },
    {
      "cell_type": "code",
      "execution_count": 8,
      "id": "cf03553c-4e73-46f7-a282-f4250007b73a",
      "metadata": {
        "tags": [],
        "id": "cf03553c-4e73-46f7-a282-f4250007b73a",
        "outputId": "1f377463-705a-424d-c399-8d860d771efa",
        "colab": {
          "base_uri": "https://localhost:8080/"
        }
      },
      "outputs": [
        {
          "output_type": "execute_result",
          "data": {
            "text/plain": [
              "2"
            ]
          },
          "metadata": {},
          "execution_count": 8
        }
      ],
      "source": [
        "a.ndim"
      ]
    },
    {
      "cell_type": "code",
      "execution_count": 9,
      "id": "8a012b12-b7e0-41b4-809e-5627e71a8412",
      "metadata": {
        "tags": [],
        "id": "8a012b12-b7e0-41b4-809e-5627e71a8412",
        "outputId": "cf1970a1-19cf-4836-d65e-75546c6fa554",
        "colab": {
          "base_uri": "https://localhost:8080/"
        }
      },
      "outputs": [
        {
          "output_type": "execute_result",
          "data": {
            "text/plain": [
              "15"
            ]
          },
          "metadata": {},
          "execution_count": 9
        }
      ],
      "source": [
        "a.size"
      ]
    },
    {
      "cell_type": "code",
      "execution_count": 10,
      "id": "9e8ccb38-4853-49c2-8430-face736fbe26",
      "metadata": {
        "tags": [],
        "id": "9e8ccb38-4853-49c2-8430-face736fbe26"
      },
      "outputs": [],
      "source": [
        "ls=[[4,5,6,7],[1,2,3,4]]"
      ]
    },
    {
      "cell_type": "code",
      "execution_count": 11,
      "id": "ea437cfa-60e7-46c4-8c5b-5ddf776fc609",
      "metadata": {
        "tags": [],
        "id": "ea437cfa-60e7-46c4-8c5b-5ddf776fc609"
      },
      "outputs": [],
      "source": [
        "arr=np.array(ls)"
      ]
    },
    {
      "cell_type": "code",
      "execution_count": 12,
      "id": "249e98de-c550-425a-97fa-c526c3f25f87",
      "metadata": {
        "tags": [],
        "id": "249e98de-c550-425a-97fa-c526c3f25f87",
        "outputId": "d6e3a7b9-e89b-4441-926e-af5f1899835a",
        "colab": {
          "base_uri": "https://localhost:8080/"
        }
      },
      "outputs": [
        {
          "output_type": "execute_result",
          "data": {
            "text/plain": [
              "array([[4, 5, 6, 7],\n",
              "       [1, 2, 3, 4]])"
            ]
          },
          "metadata": {},
          "execution_count": 12
        }
      ],
      "source": [
        "arr"
      ]
    },
    {
      "cell_type": "code",
      "execution_count": 13,
      "id": "b8d5f384-b3a5-44b9-bfe0-eaa922ad52a8",
      "metadata": {
        "tags": [],
        "id": "b8d5f384-b3a5-44b9-bfe0-eaa922ad52a8",
        "outputId": "3aeb9a0e-5229-4ab5-e490-594a044f77c9",
        "colab": {
          "base_uri": "https://localhost:8080/"
        }
      },
      "outputs": [
        {
          "output_type": "execute_result",
          "data": {
            "text/plain": [
              "array([0., 0., 0., 0., 0., 0., 0., 0., 0., 0., 0., 0., 0., 0., 0., 0., 0.,\n",
              "       0., 0., 0., 0., 0., 0., 0., 0., 0., 0., 0., 0., 0., 0., 0., 0., 0.,\n",
              "       0., 0., 0., 0., 0., 0., 0., 0., 0., 0., 0., 0., 0., 0., 0., 0., 0.,\n",
              "       0., 0., 0., 0., 0., 0., 0., 0., 0., 0., 0., 0., 0., 0., 0., 0., 0.,\n",
              "       0., 0., 0., 0., 0., 0., 0., 0., 0., 0., 0., 0., 0., 0., 0., 0., 0.,\n",
              "       0., 0., 0., 0., 0., 0., 0., 0., 0., 0., 0., 0., 0., 0., 0.])"
            ]
          },
          "metadata": {},
          "execution_count": 13
        }
      ],
      "source": [
        "np.zeros(100)"
      ]
    },
    {
      "cell_type": "code",
      "execution_count": 14,
      "id": "d43065bc-72ae-4d74-b5d2-0e870deb9e46",
      "metadata": {
        "tags": [],
        "id": "d43065bc-72ae-4d74-b5d2-0e870deb9e46"
      },
      "outputs": [],
      "source": [
        "a=np.zeros(100)"
      ]
    },
    {
      "cell_type": "code",
      "execution_count": 15,
      "id": "9d1d7670-09b7-4f21-a795-fcbdb12ae9f3",
      "metadata": {
        "tags": [],
        "id": "9d1d7670-09b7-4f21-a795-fcbdb12ae9f3",
        "outputId": "3aacfbb5-e0df-4534-8a70-f99e356ff2ad",
        "colab": {
          "base_uri": "https://localhost:8080/"
        }
      },
      "outputs": [
        {
          "output_type": "execute_result",
          "data": {
            "text/plain": [
              "array([[[0., 0., 0., 0., 0., 0., 0., 0., 0., 0.],\n",
              "        [0., 0., 0., 0., 0., 0., 0., 0., 0., 0.],\n",
              "        [0., 0., 0., 0., 0., 0., 0., 0., 0., 0.],\n",
              "        [0., 0., 0., 0., 0., 0., 0., 0., 0., 0.],\n",
              "        [0., 0., 0., 0., 0., 0., 0., 0., 0., 0.]],\n",
              "\n",
              "       [[0., 0., 0., 0., 0., 0., 0., 0., 0., 0.],\n",
              "        [0., 0., 0., 0., 0., 0., 0., 0., 0., 0.],\n",
              "        [0., 0., 0., 0., 0., 0., 0., 0., 0., 0.],\n",
              "        [0., 0., 0., 0., 0., 0., 0., 0., 0., 0.],\n",
              "        [0., 0., 0., 0., 0., 0., 0., 0., 0., 0.]]])"
            ]
          },
          "metadata": {},
          "execution_count": 15
        }
      ],
      "source": [
        "a.reshape(2,5,10)"
      ]
    },
    {
      "cell_type": "code",
      "execution_count": 16,
      "id": "ca4a3c9c-5a94-4ea6-b067-fc6b9ca684be",
      "metadata": {
        "tags": [],
        "id": "ca4a3c9c-5a94-4ea6-b067-fc6b9ca684be"
      },
      "outputs": [],
      "source": [
        "a=np.ones(2)"
      ]
    },
    {
      "cell_type": "code",
      "execution_count": 17,
      "id": "caaf550a-3e36-4578-9393-91b242cf7248",
      "metadata": {
        "tags": [],
        "id": "caaf550a-3e36-4578-9393-91b242cf7248",
        "outputId": "4a0b2a2c-4ce5-4097-c2ce-2f8845af2314",
        "colab": {
          "base_uri": "https://localhost:8080/"
        }
      },
      "outputs": [
        {
          "output_type": "execute_result",
          "data": {
            "text/plain": [
              "array([1., 1.])"
            ]
          },
          "metadata": {},
          "execution_count": 17
        }
      ],
      "source": [
        "a"
      ]
    },
    {
      "cell_type": "code",
      "execution_count": 18,
      "id": "d44dee02-f70d-4f99-9b4d-1283c4ba80a7",
      "metadata": {
        "tags": [],
        "id": "d44dee02-f70d-4f99-9b4d-1283c4ba80a7",
        "outputId": "8e6cce40-893a-4294-afdc-8aed53bf27d9",
        "colab": {
          "base_uri": "https://localhost:8080/"
        }
      },
      "outputs": [
        {
          "output_type": "execute_result",
          "data": {
            "text/plain": [
              "array([[1., 0., 0., 0.],\n",
              "       [0., 1., 0., 0.],\n",
              "       [0., 0., 1., 0.],\n",
              "       [0., 0., 0., 1.]])"
            ]
          },
          "metadata": {},
          "execution_count": 18
        }
      ],
      "source": [
        "np.eye(4)"
      ]
    },
    {
      "cell_type": "code",
      "execution_count": 19,
      "id": "55272884-b401-47d8-9552-b53c62af7a56",
      "metadata": {
        "tags": [],
        "id": "55272884-b401-47d8-9552-b53c62af7a56",
        "outputId": "f040fc18-9954-4420-eeed-23649119d2eb",
        "colab": {
          "base_uri": "https://localhost:8080/"
        }
      },
      "outputs": [
        {
          "output_type": "execute_result",
          "data": {
            "text/plain": [
              "array([0.  , 0.25, 0.5 , 0.75, 1.  ])"
            ]
          },
          "metadata": {},
          "execution_count": 19
        }
      ],
      "source": [
        "np.empty(5)"
      ]
    },
    {
      "cell_type": "code",
      "execution_count": 20,
      "id": "21a09862-c2fa-4289-bdcd-a3f2532e33ce",
      "metadata": {
        "tags": [],
        "id": "21a09862-c2fa-4289-bdcd-a3f2532e33ce"
      },
      "outputs": [],
      "source": [
        "e=np.empty(5)"
      ]
    },
    {
      "cell_type": "code",
      "execution_count": 21,
      "id": "46953fdd-fb36-4661-8a02-6df7cf7ab82c",
      "metadata": {
        "tags": [],
        "id": "46953fdd-fb36-4661-8a02-6df7cf7ab82c",
        "outputId": "61736336-9b83-429d-e5bd-967f14f6a53d",
        "colab": {
          "base_uri": "https://localhost:8080/"
        }
      },
      "outputs": [
        {
          "output_type": "execute_result",
          "data": {
            "text/plain": [
              "array([0.  , 0.25, 0.5 , 0.75, 1.  ])"
            ]
          },
          "metadata": {},
          "execution_count": 21
        }
      ],
      "source": [
        "e"
      ]
    },
    {
      "cell_type": "code",
      "execution_count": 21,
      "id": "d4d0f113-1928-4c23-9326-a6439f84fa89",
      "metadata": {
        "id": "d4d0f113-1928-4c23-9326-a6439f84fa89"
      },
      "outputs": [],
      "source": []
    }
  ],
  "metadata": {
    "kernelspec": {
      "display_name": "Python 3 (ipykernel)",
      "language": "python",
      "name": "python3"
    },
    "language_info": {
      "codemirror_mode": {
        "name": "ipython",
        "version": 3
      },
      "file_extension": ".py",
      "mimetype": "text/x-python",
      "name": "python",
      "nbconvert_exporter": "python",
      "pygments_lexer": "ipython3",
      "version": "3.11.5"
    },
    "colab": {
      "provenance": []
    }
  },
  "nbformat": 4,
  "nbformat_minor": 5
}