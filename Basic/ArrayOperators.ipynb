{
  "cells": [
    {
      "cell_type": "code",
      "execution_count": 1,
      "id": "2285f0a2-dcda-41c5-9e47-f598513d6997",
      "metadata": {
        "tags": [],
        "id": "2285f0a2-dcda-41c5-9e47-f598513d6997"
      },
      "outputs": [],
      "source": [
        "import numpy as np\n"
      ]
    },
    {
      "cell_type": "code",
      "execution_count": 2,
      "id": "f85e951c-5b19-44a9-a84a-639795129705",
      "metadata": {
        "tags": [],
        "id": "f85e951c-5b19-44a9-a84a-639795129705"
      },
      "outputs": [],
      "source": [
        "b=np.random.random((3,3))"
      ]
    },
    {
      "cell_type": "code",
      "execution_count": 3,
      "id": "7d28ff46-11f0-44ba-95a0-22a8e98dc12a",
      "metadata": {
        "tags": [],
        "id": "7d28ff46-11f0-44ba-95a0-22a8e98dc12a"
      },
      "outputs": [],
      "source": [
        "c=np.random.random((3,3))"
      ]
    },
    {
      "cell_type": "code",
      "execution_count": 4,
      "id": "09fba549-7a80-4015-a904-d96d2155662d",
      "metadata": {
        "tags": [],
        "colab": {
          "base_uri": "https://localhost:8080/"
        },
        "id": "09fba549-7a80-4015-a904-d96d2155662d",
        "outputId": "df8e8c43-7261-477d-9541-6d0e391aaf8e"
      },
      "outputs": [
        {
          "output_type": "execute_result",
          "data": {
            "text/plain": [
              "array([[0.23088086, 0.68971664, 0.70312743],\n",
              "       [0.46092872, 0.43625222, 0.2658459 ],\n",
              "       [0.75189394, 0.25018617, 0.44239616]])"
            ]
          },
          "metadata": {},
          "execution_count": 4
        }
      ],
      "source": [
        "b"
      ]
    },
    {
      "cell_type": "code",
      "execution_count": 5,
      "id": "e3931c52-1186-4749-b5f2-28dbfeb06438",
      "metadata": {
        "tags": [],
        "colab": {
          "base_uri": "https://localhost:8080/"
        },
        "id": "e3931c52-1186-4749-b5f2-28dbfeb06438",
        "outputId": "11ef0a49-c34b-4093-b3a0-a7806529874e"
      },
      "outputs": [
        {
          "output_type": "execute_result",
          "data": {
            "text/plain": [
              "array([[0.2111269 , 0.60883503, 0.99352634],\n",
              "       [0.90628381, 0.99405679, 0.48019376],\n",
              "       [0.15418972, 0.91104893, 0.28558921]])"
            ]
          },
          "metadata": {},
          "execution_count": 5
        }
      ],
      "source": [
        "c"
      ]
    },
    {
      "cell_type": "code",
      "execution_count": 6,
      "id": "e8b0780d-b906-4742-8523-e6a35d397121",
      "metadata": {
        "tags": [],
        "colab": {
          "base_uri": "https://localhost:8080/"
        },
        "id": "e8b0780d-b906-4742-8523-e6a35d397121",
        "outputId": "d3422d8a-d1fd-46ca-ef9c-8b6591395ddd"
      },
      "outputs": [
        {
          "output_type": "execute_result",
          "data": {
            "text/plain": [
              "array([[0.44200776, 1.29855167, 1.69665377],\n",
              "       [1.36721253, 1.43030901, 0.74603966],\n",
              "       [0.90608365, 1.1612351 , 0.72798537]])"
            ]
          },
          "metadata": {},
          "execution_count": 6
        }
      ],
      "source": [
        "b + c"
      ]
    },
    {
      "cell_type": "code",
      "execution_count": 7,
      "id": "ec5dbacb-01af-4c6b-a5ce-0c243776a572",
      "metadata": {
        "tags": [],
        "colab": {
          "base_uri": "https://localhost:8080/"
        },
        "id": "ec5dbacb-01af-4c6b-a5ce-0c243776a572",
        "outputId": "45aa7ccf-a5fa-4491-9c89-d09de9f46405"
      },
      "outputs": [
        {
          "output_type": "execute_result",
          "data": {
            "text/plain": [
              "array([[ 0.01975395,  0.08088161, -0.29039892],\n",
              "       [-0.44535509, -0.55780456, -0.21434786],\n",
              "       [ 0.59770422, -0.66086276,  0.15680695]])"
            ]
          },
          "metadata": {},
          "execution_count": 7
        }
      ],
      "source": [
        "b -c"
      ]
    },
    {
      "cell_type": "code",
      "execution_count": 8,
      "id": "1227c281-91b1-4527-8ab3-4840c7537571",
      "metadata": {
        "tags": [],
        "colab": {
          "base_uri": "https://localhost:8080/"
        },
        "id": "1227c281-91b1-4527-8ab3-4840c7537571",
        "outputId": "f5b7f127-0297-4032-eaca-3a8f73b4aa1d"
      },
      "outputs": [
        {
          "output_type": "execute_result",
          "data": {
            "text/plain": [
              "array([[0.04874516, 0.41992365, 0.69857562],\n",
              "       [0.41773224, 0.43365948, 0.12765754],\n",
              "       [0.11593431, 0.22793184, 0.12634357]])"
            ]
          },
          "metadata": {},
          "execution_count": 8
        }
      ],
      "source": [
        "b*c"
      ]
    },
    {
      "cell_type": "code",
      "execution_count": 9,
      "id": "999af1ad-db64-4c70-b4ca-8fab2f41b64d",
      "metadata": {
        "tags": [],
        "colab": {
          "base_uri": "https://localhost:8080/"
        },
        "id": "999af1ad-db64-4c70-b4ca-8fab2f41b64d",
        "outputId": "ea4c11f4-f57f-4af5-eed4-cd692cab4503"
      },
      "outputs": [
        {
          "output_type": "execute_result",
          "data": {
            "text/plain": [
              "array([[1.09356436, 1.13284652, 0.70770889],\n",
              "       [0.50859203, 0.43886047, 0.55362215],\n",
              "       [4.87642082, 0.27461332, 1.54906469]])"
            ]
          },
          "metadata": {},
          "execution_count": 9
        }
      ],
      "source": [
        "b/c"
      ]
    },
    {
      "cell_type": "code",
      "execution_count": 10,
      "id": "c95d3bf4-f0bb-4fec-9a2b-d20106fc69de",
      "metadata": {
        "tags": [],
        "colab": {
          "base_uri": "https://localhost:8080/"
        },
        "id": "c95d3bf4-f0bb-4fec-9a2b-d20106fc69de",
        "outputId": "c7023149-e1ea-4838-96a1-934d5e6202a0"
      },
      "outputs": [
        {
          "output_type": "execute_result",
          "data": {
            "text/plain": [
              "array([[0.01975395, 0.08088161, 0.70312743],\n",
              "       [0.46092872, 0.43625222, 0.2658459 ],\n",
              "       [0.13513508, 0.25018617, 0.15680695]])"
            ]
          },
          "metadata": {},
          "execution_count": 10
        }
      ],
      "source": [
        "b%c"
      ]
    },
    {
      "cell_type": "code",
      "execution_count": 11,
      "id": "de32a07a-eb26-4120-9b4e-4353e20568d9",
      "metadata": {
        "tags": [],
        "colab": {
          "base_uri": "https://localhost:8080/"
        },
        "id": "de32a07a-eb26-4120-9b4e-4353e20568d9",
        "outputId": "a446b472-53ed-47a0-a412-0a645f256d0d"
      },
      "outputs": [
        {
          "output_type": "execute_result",
          "data": {
            "text/plain": [
              "array([[4.73648781, 1.64248105, 1.00651584],\n",
              "       [1.10340711, 1.00597875, 2.0824927 ],\n",
              "       [6.48551687, 1.09763588, 3.50153286]])"
            ]
          },
          "metadata": {},
          "execution_count": 11
        }
      ],
      "source": [
        "1/c"
      ]
    },
    {
      "cell_type": "code",
      "execution_count": 12,
      "id": "a7b6d8f1-c232-4bfd-be0b-d66cb061934e",
      "metadata": {
        "tags": [],
        "colab": {
          "base_uri": "https://localhost:8080/"
        },
        "id": "a7b6d8f1-c232-4bfd-be0b-d66cb061934e",
        "outputId": "db44a853-56ee-40e1-d3be-af141dcc3208"
      },
      "outputs": [
        {
          "output_type": "execute_result",
          "data": {
            "text/plain": [
              "array([[8.66247658, 2.89974154, 2.84443462],\n",
              "       [4.33906569, 4.58450385, 7.52315525],\n",
              "       [2.65994963, 7.99404697, 4.52083492]])"
            ]
          },
          "metadata": {},
          "execution_count": 12
        }
      ],
      "source": [
        "2/b"
      ]
    },
    {
      "cell_type": "code",
      "execution_count": 13,
      "id": "3f12718d-1f89-4d21-b850-d1759bd1ffe2",
      "metadata": {
        "tags": [],
        "id": "3f12718d-1f89-4d21-b850-d1759bd1ffe2"
      },
      "outputs": [],
      "source": [
        "b += c #b=b+c"
      ]
    },
    {
      "cell_type": "code",
      "execution_count": 14,
      "id": "27ff1012-ca49-4cab-a014-d33005c068b9",
      "metadata": {
        "tags": [],
        "colab": {
          "base_uri": "https://localhost:8080/"
        },
        "id": "27ff1012-ca49-4cab-a014-d33005c068b9",
        "outputId": "ecc3866e-9d96-4d00-bebf-61bcb162d3f6"
      },
      "outputs": [
        {
          "output_type": "execute_result",
          "data": {
            "text/plain": [
              "array([[0.44200776, 1.29855167, 1.69665377],\n",
              "       [1.36721253, 1.43030901, 0.74603966],\n",
              "       [0.90608365, 1.1612351 , 0.72798537]])"
            ]
          },
          "metadata": {},
          "execution_count": 14
        }
      ],
      "source": [
        "b"
      ]
    },
    {
      "cell_type": "code",
      "execution_count": 15,
      "id": "3b8e6de1-17d0-4059-85ca-d2ae55fe4ae2",
      "metadata": {
        "tags": [],
        "colab": {
          "base_uri": "https://localhost:8080/"
        },
        "id": "3b8e6de1-17d0-4059-85ca-d2ae55fe4ae2",
        "outputId": "11b470ba-0b6f-4f67-bf48-504c559cd77f"
      },
      "outputs": [
        {
          "output_type": "execute_result",
          "data": {
            "text/plain": [
              "array([[0.19537086, 1.68623644, 2.87863402],\n",
              "       [1.86927011, 2.04578386, 0.55657518],\n",
              "       [0.82098759, 1.34846696, 0.52996269]])"
            ]
          },
          "metadata": {},
          "execution_count": 15
        }
      ],
      "source": [
        " b**2"
      ]
    },
    {
      "cell_type": "code",
      "execution_count": 16,
      "id": "1d4dba0d-a6e7-4e96-9743-420067aaca95",
      "metadata": {
        "tags": [],
        "colab": {
          "base_uri": "https://localhost:8080/"
        },
        "id": "1d4dba0d-a6e7-4e96-9743-420067aaca95",
        "outputId": "e796bc5f-ff67-4b37-de9b-f6dc27b4bbff"
      },
      "outputs": [
        {
          "output_type": "execute_result",
          "data": {
            "text/plain": [
              "0.2758617313096681"
            ]
          },
          "metadata": {},
          "execution_count": 16
        }
      ],
      "source": [
        "0.52522541 *0.52522541"
      ]
    },
    {
      "cell_type": "code",
      "execution_count": 17,
      "id": "a7b23701-880d-43b0-ad50-2666d515905b",
      "metadata": {
        "colab": {
          "base_uri": "https://localhost:8080/"
        },
        "id": "a7b23701-880d-43b0-ad50-2666d515905b",
        "outputId": "d7ae428c-928b-4e03-f465-1d15e2113a49"
      },
      "outputs": [
        {
          "output_type": "execute_result",
          "data": {
            "text/plain": [
              "2.1125656805635686"
            ]
          },
          "metadata": {},
          "execution_count": 17
        }
      ],
      "source": [
        "1.45346678 * 1.45346678"
      ]
    },
    {
      "cell_type": "code",
      "execution_count": 17,
      "id": "c45194ce-dd1d-4fe8-b107-24234a6d6166",
      "metadata": {
        "id": "c45194ce-dd1d-4fe8-b107-24234a6d6166"
      },
      "outputs": [],
      "source": []
    }
  ],
  "metadata": {
    "kernelspec": {
      "display_name": "Python 3 (ipykernel)",
      "language": "python",
      "name": "python3"
    },
    "language_info": {
      "codemirror_mode": {
        "name": "ipython",
        "version": 3
      },
      "file_extension": ".py",
      "mimetype": "text/x-python",
      "name": "python",
      "nbconvert_exporter": "python",
      "pygments_lexer": "ipython3",
      "version": "3.11.5"
    },
    "colab": {
      "provenance": []
    }
  },
  "nbformat": 4,
  "nbformat_minor": 5
}